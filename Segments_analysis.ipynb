{
 "cells": [
  {
   "cell_type": "code",
   "execution_count": 3,
   "metadata": {
    "collapsed": true
   },
   "outputs": [],
   "source": [
    "import pandas as pd\n",
    "import numpy as np"
   ]
  },
  {
   "cell_type": "code",
   "execution_count": 4,
   "outputs": [],
   "source": [
    "path = 'metadata/valid_chunks.csv'"
   ],
   "metadata": {
    "collapsed": false,
    "pycharm": {
     "name": "#%%\n"
    }
   }
  },
  {
   "cell_type": "code",
   "execution_count": 5,
   "outputs": [
    {
     "data": {
      "text/plain": "                                         path            performance language  \\\n0      6/AU/en/117745838_2736894945/vocal.ogg   117745838_2736894945       en   \n1      6/AU/en/117745838_2736894945/vocal.ogg   117745838_2736894945       en   \n2      6/AU/en/117745838_2736894945/vocal.ogg   117745838_2736894945       en   \n3    11/GB/en/1053375858_2712533853/vocal.ogg  1053375858_2712533853       en   \n4    11/GB/en/1053375858_2712533853/vocal.ogg  1053375858_2712533853       en   \n..                                        ...                    ...      ...   \n393     8/US/en/82265433_2718703667/vocal.ogg    82265433_2718703667       en   \n394     8/US/en/82265433_2718703667/vocal.ogg    82265433_2718703667       en   \n395    8/MM/en/962404057_2710532931/vocal.ogg   962404057_2710532931       en   \n396    8/MM/en/962404057_2710532931/vocal.ogg   962404057_2710532931       en   \n397    8/MM/en/962404057_2710532931/vocal.ogg   962404057_2710532931       en   \n\n    country  chunk  start_time  end_time  duration  \n0        AU      1        9.18     16.35      7.17  \n1        AU      2       16.77     24.60      7.83  \n2        AU      3       25.14     29.46      4.32  \n3        GB      1        0.33      3.78      3.45  \n4        GB      2        3.84     15.51     11.67  \n..      ...    ...         ...       ...       ...  \n393      US      1        0.24      5.25      5.01  \n394      US      3        5.73     29.61     23.88  \n395      MM      1        0.12      5.34      5.22  \n396      MM      4        5.46     16.71     11.25  \n397      MM      8       17.25     25.08      7.83  \n\n[398 rows x 8 columns]",
      "text/html": "<div>\n<style scoped>\n    .dataframe tbody tr th:only-of-type {\n        vertical-align: middle;\n    }\n\n    .dataframe tbody tr th {\n        vertical-align: top;\n    }\n\n    .dataframe thead th {\n        text-align: right;\n    }\n</style>\n<table border=\"1\" class=\"dataframe\">\n  <thead>\n    <tr style=\"text-align: right;\">\n      <th></th>\n      <th>path</th>\n      <th>performance</th>\n      <th>language</th>\n      <th>country</th>\n      <th>chunk</th>\n      <th>start_time</th>\n      <th>end_time</th>\n      <th>duration</th>\n    </tr>\n  </thead>\n  <tbody>\n    <tr>\n      <th>0</th>\n      <td>6/AU/en/117745838_2736894945/vocal.ogg</td>\n      <td>117745838_2736894945</td>\n      <td>en</td>\n      <td>AU</td>\n      <td>1</td>\n      <td>9.18</td>\n      <td>16.35</td>\n      <td>7.17</td>\n    </tr>\n    <tr>\n      <th>1</th>\n      <td>6/AU/en/117745838_2736894945/vocal.ogg</td>\n      <td>117745838_2736894945</td>\n      <td>en</td>\n      <td>AU</td>\n      <td>2</td>\n      <td>16.77</td>\n      <td>24.60</td>\n      <td>7.83</td>\n    </tr>\n    <tr>\n      <th>2</th>\n      <td>6/AU/en/117745838_2736894945/vocal.ogg</td>\n      <td>117745838_2736894945</td>\n      <td>en</td>\n      <td>AU</td>\n      <td>3</td>\n      <td>25.14</td>\n      <td>29.46</td>\n      <td>4.32</td>\n    </tr>\n    <tr>\n      <th>3</th>\n      <td>11/GB/en/1053375858_2712533853/vocal.ogg</td>\n      <td>1053375858_2712533853</td>\n      <td>en</td>\n      <td>GB</td>\n      <td>1</td>\n      <td>0.33</td>\n      <td>3.78</td>\n      <td>3.45</td>\n    </tr>\n    <tr>\n      <th>4</th>\n      <td>11/GB/en/1053375858_2712533853/vocal.ogg</td>\n      <td>1053375858_2712533853</td>\n      <td>en</td>\n      <td>GB</td>\n      <td>2</td>\n      <td>3.84</td>\n      <td>15.51</td>\n      <td>11.67</td>\n    </tr>\n    <tr>\n      <th>...</th>\n      <td>...</td>\n      <td>...</td>\n      <td>...</td>\n      <td>...</td>\n      <td>...</td>\n      <td>...</td>\n      <td>...</td>\n      <td>...</td>\n    </tr>\n    <tr>\n      <th>393</th>\n      <td>8/US/en/82265433_2718703667/vocal.ogg</td>\n      <td>82265433_2718703667</td>\n      <td>en</td>\n      <td>US</td>\n      <td>1</td>\n      <td>0.24</td>\n      <td>5.25</td>\n      <td>5.01</td>\n    </tr>\n    <tr>\n      <th>394</th>\n      <td>8/US/en/82265433_2718703667/vocal.ogg</td>\n      <td>82265433_2718703667</td>\n      <td>en</td>\n      <td>US</td>\n      <td>3</td>\n      <td>5.73</td>\n      <td>29.61</td>\n      <td>23.88</td>\n    </tr>\n    <tr>\n      <th>395</th>\n      <td>8/MM/en/962404057_2710532931/vocal.ogg</td>\n      <td>962404057_2710532931</td>\n      <td>en</td>\n      <td>MM</td>\n      <td>1</td>\n      <td>0.12</td>\n      <td>5.34</td>\n      <td>5.22</td>\n    </tr>\n    <tr>\n      <th>396</th>\n      <td>8/MM/en/962404057_2710532931/vocal.ogg</td>\n      <td>962404057_2710532931</td>\n      <td>en</td>\n      <td>MM</td>\n      <td>4</td>\n      <td>5.46</td>\n      <td>16.71</td>\n      <td>11.25</td>\n    </tr>\n    <tr>\n      <th>397</th>\n      <td>8/MM/en/962404057_2710532931/vocal.ogg</td>\n      <td>962404057_2710532931</td>\n      <td>en</td>\n      <td>MM</td>\n      <td>8</td>\n      <td>17.25</td>\n      <td>25.08</td>\n      <td>7.83</td>\n    </tr>\n  </tbody>\n</table>\n<p>398 rows × 8 columns</p>\n</div>"
     },
     "execution_count": 5,
     "metadata": {},
     "output_type": "execute_result"
    }
   ],
   "source": [
    "df = pd.read_csv(path)\n",
    "df"
   ],
   "metadata": {
    "collapsed": false,
    "pycharm": {
     "name": "#%%\n"
    }
   }
  },
  {
   "cell_type": "code",
   "execution_count": 6,
   "outputs": [],
   "source": [
    "durations = []\n",
    "\n",
    "for idx, row in df.iterrows():\n",
    "  durations.append(row['duration'])"
   ],
   "metadata": {
    "collapsed": false,
    "pycharm": {
     "name": "#%%\n"
    }
   }
  },
  {
   "cell_type": "code",
   "execution_count": 7,
   "outputs": [
    {
     "name": "stdout",
     "output_type": "stream",
     "text": [
      "29.97\n",
      "0.33\n",
      "5.796708542713568\n",
      "398\n",
      "0.6408583333333335\n",
      "0.6059666666666668\n"
     ]
    },
    {
     "data": {
      "text/plain": "333"
     },
     "execution_count": 7,
     "metadata": {},
     "output_type": "execute_result"
    }
   ],
   "source": [
    "print(max(durations))\n",
    "print(min(durations))\n",
    "print(np.mean(durations))\n",
    "print(len(durations))\n",
    "print(sum(durations)/3600)\n",
    "longsamples = [x for x in filter(lambda x: x>=3.0, durations)]\n",
    "print(sum(filter(lambda x: x>=3.0, durations))/3600)\n",
    "len(longsamples)"
   ],
   "metadata": {
    "collapsed": false,
    "pycharm": {
     "name": "#%%\n"
    }
   }
  },
  {
   "cell_type": "code",
   "execution_count": 48,
   "outputs": [
    {
     "data": {
      "text/plain": "<Figure size 432x288 with 1 Axes>",
      "image/png": "[encoded data removed]"
     },
     "metadata": {
      "needs_background": "light"
     },
     "output_type": "display_data"
    }
   ],
   "source": [
    "hist = df['duration'].hist(bins=30)"
   ],
   "metadata": {
    "collapsed": false,
    "pycharm": {
     "name": "#%%\n"
    }
   }
  },
  {
   "cell_type": "code",
   "execution_count": 26,
   "outputs": [
    {
     "data": {
      "text/plain": "<Figure size 432x288 with 4 Axes>",
      "image/png": "[encoded data removed]"
     },
     "metadata": {
      "needs_background": "light"
     },
     "output_type": "display_data"
    }
   ],
   "source": [
    "df_max29 = df[df['duration'] < 29]\n",
    "hist = df_max29.hist(bins=30)"
   ],
   "metadata": {
    "collapsed": false,
    "pycharm": {
     "name": "#%%\n"
    }
   }
  },
  {
   "cell_type": "code",
   "execution_count": 27,
   "outputs": [
    {
     "data": {
      "text/plain": "                                           path            performance  \\\n119    19/IT/en/1000106951_2714761242/vocal.ogg  1000106951_2714761242   \n144    11/US/en/1000052718_2902622803/vocal.ogg  1000052718_2902622803   \n197     6/MY/en/1004719681_2942911340/vocal.ogg  1004719681_2942911340   \n209     19/TW/en/443648126_2796877530/vocal.ogg   443648126_2796877530   \n234    17/IT/en/1000106951_2821853617/vocal.ogg  1000106951_2821853617   \n...                                         ...                    ...   \n26285    10/SA/en/90032483_2729935264/vocal.ogg    90032483_2729935264   \n26327    6/DE/en/904388790_2817840402/vocal.ogg   904388790_2817840402   \n26335   19/MY/en/917955563_2974957157/vocal.ogg   917955563_2974957157   \n26369    7/SA/en/927826742_2704382290/vocal.ogg   927826742_2704382290   \n26394    8/BR/en/942001805_2772036229/vocal.ogg   942001805_2772036229   \n\n      language country  chunk  start_time  end_time  duration  \n119         en      IT      1        0.39     29.67     29.28  \n144         en      US      1        0.00     29.61     29.61  \n197         en      MY      1        0.00     29.73     29.73  \n209         en      TW      1        0.00     29.46     29.46  \n234         en      IT      1        0.36     29.76     29.40  \n...        ...     ...    ...         ...       ...       ...  \n26285       en      SA      1        0.21     29.79     29.58  \n26327       en      DE      1        0.39     29.88     29.49  \n26335       en      MY      1        0.00     29.67     29.67  \n26369       en      SA      1        0.00     29.67     29.67  \n26394       en      BR      1        0.15     29.61     29.46  \n\n[668 rows x 8 columns]",
      "text/html": "<div>\n<style scoped>\n    .dataframe tbody tr th:only-of-type {\n        vertical-align: middle;\n    }\n\n    .dataframe tbody tr th {\n        vertical-align: top;\n    }\n\n    .dataframe thead th {\n        text-align: right;\n    }\n</style>\n<table border=\"1\" class=\"dataframe\">\n  <thead>\n    <tr style=\"text-align: right;\">\n      <th></th>\n      <th>path</th>\n      <th>performance</th>\n      <th>language</th>\n      <th>country</th>\n      <th>chunk</th>\n      <th>start_time</th>\n      <th>end_time</th>\n      <th>duration</th>\n    </tr>\n  </thead>\n  <tbody>\n    <tr>\n      <th>119</th>\n      <td>19/IT/en/1000106951_2714761242/vocal.ogg</td>\n      <td>1000106951_2714761242</td>\n      <td>en</td>\n      <td>IT</td>\n      <td>1</td>\n      <td>0.39</td>\n      <td>29.67</td>\n      <td>29.28</td>\n    </tr>\n    <tr>\n      <th>144</th>\n      <td>11/US/en/1000052718_2902622803/vocal.ogg</td>\n      <td>1000052718_2902622803</td>\n      <td>en</td>\n      <td>US</td>\n      <td>1</td>\n      <td>0.00</td>\n      <td>29.61</td>\n      <td>29.61</td>\n    </tr>\n    <tr>\n      <th>197</th>\n      <td>6/MY/en/1004719681_2942911340/vocal.ogg</td>\n      <td>1004719681_2942911340</td>\n      <td>en</td>\n      <td>MY</td>\n      <td>1</td>\n      <td>0.00</td>\n      <td>29.73</td>\n      <td>29.73</td>\n    </tr>\n    <tr>\n      <th>209</th>\n      <td>19/TW/en/443648126_2796877530/vocal.ogg</td>\n      <td>443648126_2796877530</td>\n      <td>en</td>\n      <td>TW</td>\n      <td>1</td>\n      <td>0.00</td>\n      <td>29.46</td>\n      <td>29.46</td>\n    </tr>\n    <tr>\n      <th>234</th>\n      <td>17/IT/en/1000106951_2821853617/vocal.ogg</td>\n      <td>1000106951_2821853617</td>\n      <td>en</td>\n      <td>IT</td>\n      <td>1</td>\n      <td>0.36</td>\n      <td>29.76</td>\n      <td>29.40</td>\n    </tr>\n    <tr>\n      <th>...</th>\n      <td>...</td>\n      <td>...</td>\n      <td>...</td>\n      <td>...</td>\n      <td>...</td>\n      <td>...</td>\n      <td>...</td>\n      <td>...</td>\n    </tr>\n    <tr>\n      <th>26285</th>\n      <td>10/SA/en/90032483_2729935264/vocal.ogg</td>\n      <td>90032483_2729935264</td>\n      <td>en</td>\n      <td>SA</td>\n      <td>1</td>\n      <td>0.21</td>\n      <td>29.79</td>\n      <td>29.58</td>\n    </tr>\n    <tr>\n      <th>26327</th>\n      <td>6/DE/en/904388790_2817840402/vocal.ogg</td>\n      <td>904388790_2817840402</td>\n      <td>en</td>\n      <td>DE</td>\n      <td>1</td>\n      <td>0.39</td>\n      <td>29.88</td>\n      <td>29.49</td>\n    </tr>\n    <tr>\n      <th>26335</th>\n      <td>19/MY/en/917955563_2974957157/vocal.ogg</td>\n      <td>917955563_2974957157</td>\n      <td>en</td>\n      <td>MY</td>\n      <td>1</td>\n      <td>0.00</td>\n      <td>29.67</td>\n      <td>29.67</td>\n    </tr>\n    <tr>\n      <th>26369</th>\n      <td>7/SA/en/927826742_2704382290/vocal.ogg</td>\n      <td>927826742_2704382290</td>\n      <td>en</td>\n      <td>SA</td>\n      <td>1</td>\n      <td>0.00</td>\n      <td>29.67</td>\n      <td>29.67</td>\n    </tr>\n    <tr>\n      <th>26394</th>\n      <td>8/BR/en/942001805_2772036229/vocal.ogg</td>\n      <td>942001805_2772036229</td>\n      <td>en</td>\n      <td>BR</td>\n      <td>1</td>\n      <td>0.15</td>\n      <td>29.61</td>\n      <td>29.46</td>\n    </tr>\n  </tbody>\n</table>\n<p>668 rows × 8 columns</p>\n</div>"
     },
     "execution_count": 27,
     "metadata": {},
     "output_type": "execute_result"
    }
   ],
   "source": [
    "df[df['duration'] >= 29]"
   ],
   "metadata": {
    "collapsed": false,
    "pycharm": {
     "name": "#%%\n"
    }
   }
  },
  {
   "cell_type": "code",
   "execution_count": null,
   "outputs": [],
   "source": [],
   "metadata": {
    "collapsed": false,
    "pycharm": {
     "name": "#%%\n"
    }
   }
  }
 ],
 "metadata": {
  "kernelspec": {
   "display_name": "Python 3",
   "language": "python",
   "name": "python3"
  },
  "language_info": {
   "codemirror_mode": {
    "name": "ipython",
    "version": 2
   },
   "file_extension": ".py",
   "mimetype": "text/x-python",
   "name": "python",
   "nbconvert_exporter": "python",
   "pygments_lexer": "ipython2",
   "version": "2.7.6"
  }
 },
 "nbformat": 4,
 "nbformat_minor": 0
}